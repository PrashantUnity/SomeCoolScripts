{
 "cells": [
  {
   "cell_type": "code",
   "execution_count": 1,
   "metadata": {},
   "outputs": [
    {
     "name": "stdout",
     "output_type": "stream",
     "text": [
      "12 string 12.5\n"
     ]
    }
   ],
   "source": [
    "# variable\n",
    "\n",
    "a = 12\n",
    "b = \"string\"\n",
    "c = 12.5\n",
    "\n",
    "print(a,b,c)"
   ]
  },
  {
   "cell_type": "code",
   "execution_count": 3,
   "metadata": {},
   "outputs": [
    {
     "name": "stdout",
     "output_type": "stream",
     "text": [
      "45 hello from string\n"
     ]
    }
   ],
   "source": [
    "# input\n",
    "d = int(input(\"Enter integer value\"))\n",
    "e = input(\"string input here\")\n",
    "print(d,e)"
   ]
  },
  {
   "cell_type": "code",
   "execution_count": 8,
   "metadata": {},
   "outputs": [
    {
     "name": "stdout",
     "output_type": "stream",
     "text": [
      "[1, 2, 3, 4, 5, 6, 7]\n"
     ]
    }
   ],
   "source": [
    "# List\n",
    "f = [1,2,3,4,5,6,7]\n",
    "print(f)"
   ]
  },
  {
   "cell_type": "code",
   "execution_count": 9,
   "metadata": {},
   "outputs": [
    {
     "name": "stdout",
     "output_type": "stream",
     "text": [
      "{1, 2, 3, 4, 5}\n"
     ]
    }
   ],
   "source": [
    "# Set\n",
    "g = {1,2,3,4,5,5}\n",
    "print(g)"
   ]
  },
  {
   "cell_type": "code",
   "execution_count": 12,
   "metadata": {},
   "outputs": [
    {
     "name": "stdout",
     "output_type": "stream",
     "text": [
      "True\n",
      "False\n",
      "12.5\n",
      "{'a': 12, 'b': 'string', 'c': 12.5, 'h': {...}}\n"
     ]
    }
   ],
   "source": [
    "# dictionary\n",
    "h ={\n",
    "    \"a\" :a,\n",
    "    \"b\" :b,\n",
    "    \"c\" :c\n",
    "}\n",
    "\n",
    "print(h.__contains__(\"a\"))\n",
    "print(h.__contains__(\"d\"))\n",
    "print(h[\"c\"])\n",
    "\n",
    "h[\"h\"]=h\n",
    "\n",
    "print(h)"
   ]
  },
  {
   "cell_type": "code",
   "execution_count": 13,
   "metadata": {},
   "outputs": [
    {
     "name": "stdout",
     "output_type": "stream",
     "text": [
      "(1, 3, 4, 5, 6, 7, 7)\n"
     ]
    }
   ],
   "source": [
    "# tuple \n",
    "i = (1,3,4,5,6,7,7)\n",
    "print(i)"
   ]
  },
  {
   "cell_type": "code",
   "execution_count": 15,
   "metadata": {},
   "outputs": [
    {
     "name": "stdout",
     "output_type": "stream",
     "text": [
      "True Case\n",
      "Negation used\n"
     ]
    }
   ],
   "source": [
    "# if Else\n",
    "if(True):\n",
    "    print(\"True Case\")\n",
    "if (False):\n",
    "    print(\"Not Print\")\n",
    "elif(~False):\n",
    "    print(\"Negation used\")\n",
    "else :\n",
    "    print(\"Balee Baleh\")\n"
   ]
  },
  {
   "cell_type": "code",
   "execution_count": 18,
   "metadata": {},
   "outputs": [
    {
     "name": "stdout",
     "output_type": "stream",
     "text": [
      "1\n",
      "2\n",
      "3\n",
      "4\n"
     ]
    }
   ],
   "source": [
    "# for loop\n",
    "\n",
    "for ii in range(1,5):\n",
    "    print(ii)"
   ]
  },
  {
   "cell_type": "code",
   "execution_count": 17,
   "metadata": {},
   "outputs": [
    {
     "name": "stdout",
     "output_type": "stream",
     "text": [
      "1\n",
      "2\n",
      "3\n",
      "4\n",
      "5\n"
     ]
    }
   ],
   "source": [
    "# while Loop\n",
    "wi =0;\n",
    "while(wi<5):\n",
    "    wi = wi+1\n",
    "    print(wi)"
   ]
  },
  {
   "cell_type": "code",
   "execution_count": 20,
   "metadata": {},
   "outputs": [
    {
     "name": "stdout",
     "output_type": "stream",
     "text": [
      "1\n",
      "3\n",
      "5\n",
      "7\n",
      "9\n"
     ]
    }
   ],
   "source": [
    "# for each loop\n",
    "fe = [1,3,5,7,9]\n",
    "for x in fe:\n",
    "    print(x)"
   ]
  },
  {
   "cell_type": "code",
   "execution_count": 21,
   "metadata": {},
   "outputs": [
    {
     "name": "stdout",
     "output_type": "stream",
     "text": [
      "1\n"
     ]
    }
   ],
   "source": [
    "# function\n",
    "def function(num):\n",
    "    print(num)\n",
    "function(1)"
   ]
  },
  {
   "cell_type": "code",
   "execution_count": 24,
   "metadata": {},
   "outputs": [
    {
     "name": "stdout",
     "output_type": "stream",
     "text": [
      "8\n"
     ]
    }
   ],
   "source": [
    "def FuncWithParameter(num:int,num1:int):\n",
    "    print(num+num1)\n",
    "FuncWithParameter(5,3)"
   ]
  }
 ],
 "metadata": {
  "kernelspec": {
   "display_name": "Python 3",
   "language": "python",
   "name": "python3"
  },
  "language_info": {
   "codemirror_mode": {
    "name": "ipython",
    "version": 3
   },
   "file_extension": ".py",
   "mimetype": "text/x-python",
   "name": "python",
   "nbconvert_exporter": "python",
   "pygments_lexer": "ipython3",
   "version": "3.11.0"
  },
  "orig_nbformat": 4
 },
 "nbformat": 4,
 "nbformat_minor": 2
}
